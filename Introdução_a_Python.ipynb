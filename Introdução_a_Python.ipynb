{
  "nbformat": 4,
  "nbformat_minor": 0,
  "metadata": {
    "colab": {
      "provenance": [],
      "toc_visible": true,
      "include_colab_link": true
    },
    "kernelspec": {
      "name": "python3",
      "display_name": "Python 3"
    },
    "language_info": {
      "name": "python"
    }
  },
  "cells": [
    {
      "cell_type": "markdown",
      "metadata": {
        "id": "view-in-github",
        "colab_type": "text"
      },
      "source": [
        "<a href=\"https://colab.research.google.com/github/leticiagbrll/ciclo_formativo_python/blob/main/Introdu%C3%A7%C3%A3o_a_Python.ipynb\" target=\"_parent\"><img src=\"https://colab.research.google.com/assets/colab-badge.svg\" alt=\"Open In Colab\"/></a>"
      ]
    },
    {
      "cell_type": "markdown",
      "source": [
        "*Para a realização desses exercícios, peço que configurem para não aparecer sugestões da IA Gemini*"
      ],
      "metadata": {
        "id": "pAFFoVXs4XQo"
      }
    },
    {
      "cell_type": "markdown",
      "source": [
        "### A) **Utilizando variáveis, gere uma apresentação curta de sí mesma, como nesse exemplo**:\n",
        "\n"
      ],
      "metadata": {
        "id": "rZbJ_1LJ2DLf"
      }
    },
    {
      "cell_type": "code",
      "source": [
        "# Oi! Eu sou a Amanda, tenho 30 anos, moro em Salvador e meu signo é Gêmeos"
      ],
      "metadata": {
        "id": "ibKRn-P37-b2"
      },
      "execution_count": null,
      "outputs": []
    },
    {
      "cell_type": "code",
      "source": [
        "# Dica: As variáveis podem ser algo como:\n",
        "nome = 'Amanda'\n",
        "idade = 30\n",
        "cidade = 'Salvador'\n",
        "signo = 'Gêmeos'"
      ],
      "metadata": {
        "id": "n0Rjb0s_2ula"
      },
      "execution_count": null,
      "outputs": []
    },
    {
      "cell_type": "code",
      "source": [
        "# Resposta aqui:\n",
        "nome = input('Qual é o seu nome? ')\n",
        "idade = input('Qual é a sua idade? ')\n",
        "cidade = input('Qual é a sua cidade? ')\n",
        "signo = input('Qual é o seu signo? ')\n",
        "print(f'Olá! Eu sou a {nome}, tenho {idade} anos, moro em {cidade} e meu signo é {signo}.')\n"
      ],
      "metadata": {
        "id": "kil7YL7Z3AoV",
        "outputId": "b3c60fc3-453b-4820-e067-02b3b4e2bdf5",
        "colab": {
          "base_uri": "https://localhost:8080/"
        }
      },
      "execution_count": null,
      "outputs": [
        {
          "output_type": "stream",
          "name": "stdout",
          "text": [
            "Qual é o seu nome? Letícia\n",
            "Qual é a sua idade? 29\n",
            "Qual é a sua cidade? São Paulo\n",
            "Qual é o seu signo? Gêmeos\n",
            "Olá! Eu sou a Letícia, tenho 29 anos, moro em São Paulo e meu signo é Gêmeos.\n"
          ]
        }
      ]
    },
    {
      "cell_type": "markdown",
      "source": [
        "\n",
        "\n",
        "---\n",
        "\n"
      ],
      "metadata": {
        "id": "dgkbPq2JK7ES"
      }
    },
    {
      "cell_type": "markdown",
      "source": [
        "### B) **Qual o maior valor dessa lista de gastos?**\n",
        "\n"
      ],
      "metadata": {
        "id": "jQnXX8Ii348J"
      }
    },
    {
      "cell_type": "code",
      "source": [
        "gastos = [10.60, 11.99, 5.50, 10, 45.99, 7.50, 4.00]"
      ],
      "metadata": {
        "id": "8CeAhHTf9aYk"
      },
      "execution_count": null,
      "outputs": []
    },
    {
      "cell_type": "code",
      "source": [
        "# O valor mais caro é: 45.99"
      ],
      "metadata": {
        "id": "EWRw9Zkn-RWL"
      },
      "execution_count": null,
      "outputs": []
    },
    {
      "cell_type": "code",
      "source": [
        "# Resposta aqui\n",
        "maior_valor = max(gastos)\n",
        "print(\"O valor mais caro é:\", maior_valor)"
      ],
      "metadata": {
        "id": "muN_hCwu-dWp",
        "outputId": "0927ea24-aab2-4098-d1f1-63dfdfbeddc9",
        "colab": {
          "base_uri": "https://localhost:8080/"
        }
      },
      "execution_count": null,
      "outputs": [
        {
          "output_type": "stream",
          "name": "stdout",
          "text": [
            "O valor mais caro é: 45.99\n"
          ]
        }
      ]
    },
    {
      "cell_type": "markdown",
      "source": [
        "\n",
        "\n",
        "---\n",
        "\n"
      ],
      "metadata": {
        "id": "skCyGhKG-gpv"
      }
    },
    {
      "cell_type": "markdown",
      "source": [
        "### C) **Qual a média dessa lista?**:\n",
        "\n"
      ],
      "metadata": {
        "id": "7-fmR1dU9Lmm"
      }
    },
    {
      "cell_type": "code",
      "source": [
        "numeros = [10,80,50,90,70]"
      ],
      "metadata": {
        "id": "_x74pbVn7t91"
      },
      "execution_count": null,
      "outputs": []
    },
    {
      "cell_type": "code",
      "source": [
        "# A média dos números é: 60.0"
      ],
      "metadata": {
        "id": "QGJ9F4go8nmt"
      },
      "execution_count": null,
      "outputs": []
    },
    {
      "cell_type": "code",
      "source": [
        "# Resposta aqui\n",
        "media = sum(numeros)/len(numeros)\n",
        "print(\"A média dos números é:\", media)"
      ],
      "metadata": {
        "id": "C8SOjNdB8Ptz",
        "outputId": "d06213ff-095a-46c8-cab7-11609c0fc67e",
        "colab": {
          "base_uri": "https://localhost:8080/"
        }
      },
      "execution_count": null,
      "outputs": [
        {
          "output_type": "stream",
          "name": "stdout",
          "text": [
            "A média dos números é: 60.0\n"
          ]
        }
      ]
    },
    {
      "cell_type": "markdown",
      "source": [
        "\n",
        "\n",
        "---\n",
        "\n"
      ],
      "metadata": {
        "id": "A5riB5veK95b"
      }
    },
    {
      "cell_type": "markdown",
      "source": [
        "### D) **Qual a média final dessas notas, qual a maior e qual a menor nota**"
      ],
      "metadata": {
        "id": "goAxWssZ_N5a"
      }
    },
    {
      "cell_type": "code",
      "source": [
        "notas = [10,7.8, 6, 8, 9]\n"
      ],
      "metadata": {
        "id": "_IY5S15p_YIR"
      },
      "execution_count": null,
      "outputs": []
    },
    {
      "cell_type": "code",
      "source": [
        "# A média final é 8.16. A sua maior nota foi 10 e a menor nota foi 6!"
      ],
      "metadata": {
        "id": "Xa-J0VSI_6YZ"
      },
      "execution_count": null,
      "outputs": []
    },
    {
      "cell_type": "code",
      "source": [
        "media = (sum(notas)/len(notas))\n",
        "maior_nota = max(notas)\n",
        "menor_nota = min(notas)\n",
        "\n",
        "print('A média final é', media, \", a sua maior nota foi\", maior_nota, \"e a menor nota foi\", menor_nota)"
      ],
      "metadata": {
        "id": "Vbx6yzmDjY88",
        "outputId": "96b28754-665c-4d54-dd89-ecb5345270d5",
        "colab": {
          "base_uri": "https://localhost:8080/"
        }
      },
      "execution_count": null,
      "outputs": [
        {
          "output_type": "stream",
          "name": "stdout",
          "text": [
            "A média final é 8.16 , a sua maior nota foi 10 e a menor nota foi 6\n"
          ]
        }
      ]
    },
    {
      "cell_type": "markdown",
      "source": [
        "\n",
        "\n",
        "---\n",
        "\n"
      ],
      "metadata": {
        "id": "ifwPeyZQK-2l"
      }
    },
    {
      "cell_type": "markdown",
      "source": [
        "### E) **Com as mesmas informações do exercício anterior, apresente se a aluna foi APROVADA ou REPROVADA**"
      ],
      "metadata": {
        "id": "p8L7DdPbApDN"
      }
    },
    {
      "cell_type": "markdown",
      "source": [
        "*  Se a média for igual ou superior a 6 apresentar a mensagem \"Parabéns, você foi APROVADA!\"\n",
        "*  Se a média for menor, apresentar \"Não foi dessa vez, infelizmente você foi REPROVADA!\""
      ],
      "metadata": {
        "id": "kb21A5Z1A7CU"
      }
    },
    {
      "cell_type": "code",
      "source": [
        "# Parabéns você foi aprovada!"
      ],
      "metadata": {
        "id": "InjCDLOZBZhC"
      },
      "execution_count": null,
      "outputs": []
    },
    {
      "cell_type": "code",
      "source": [
        "# Resposta aqui\n",
        "notas = [10,7.8, 6, 8, 9]\n",
        "media = (sum(notas)/len(notas))\n",
        "if media >= 6:\n",
        "  print('Parabéns, você foi APROVADA!')\n",
        "else:\n",
        "    print('Não foi dessa vez, infelizmente você foi REPROVADA!')"
      ],
      "metadata": {
        "id": "g2nUuyoUalog",
        "outputId": "6b30bf6f-4f4f-4843-9333-ed42dfcda449",
        "colab": {
          "base_uri": "https://localhost:8080/"
        }
      },
      "execution_count": null,
      "outputs": [
        {
          "output_type": "stream",
          "name": "stdout",
          "text": [
            "Parabéns, você foi APROVADA!\n"
          ]
        }
      ]
    },
    {
      "cell_type": "markdown",
      "source": [
        "\n",
        "\n",
        "---\n",
        "\n"
      ],
      "metadata": {
        "id": "X5Ya3MHRK_4N"
      }
    },
    {
      "cell_type": "markdown",
      "source": [
        "### F) **Desenvolva um programa que realize as quatro operações básicas (adição, subtração, multiplicação e divisão) entre dois números. A usuária deve escolher a operação e inserir os valores**"
      ],
      "metadata": {
        "id": "YT8vTnW2ENVL"
      }
    },
    {
      "cell_type": "code",
      "source": [
        "#Digite o primeiro número: 10\n",
        "#Digite o segundo número: 20\n",
        "#Digite a operação (+, -, *, /): +\n",
        "#Resultado: 30.0"
      ],
      "metadata": {
        "id": "gpmOjgseE4aD"
      },
      "execution_count": null,
      "outputs": []
    },
    {
      "cell_type": "code",
      "source": [
        "# Resposta aqui\n",
        "primeiro_numero = float(input('Digite o primeiro número? '))\n",
        "segundo_numero = float(input('Digite o segundo número? '))\n",
        "operacao = input('Digite a operação (+, -, *, /) ')\n",
        "\n",
        "if operacao == \"+\":\n",
        "  resultado = primeiro_numero + segundo_numero\n",
        "elif operacao == \"-\":\n",
        "  resultado = primeiro_numero - segundo_numero\n",
        "elif operacao == \"*\":\n",
        "  resultado = primeiro_numero * segundo_numero\n",
        "elif operacao == \"/\":\n",
        "  resultado = primeiro_numero / segundo_numero\n",
        "else:\n",
        "  resultado = \"Operação Inválida\"\n",
        "\n",
        "print(\"Resultado:\", resultado)"
      ],
      "metadata": {
        "id": "iTu22D0VEinD",
        "outputId": "7957b40d-081f-4b03-9992-bbed5a008494",
        "colab": {
          "base_uri": "https://localhost:8080/"
        }
      },
      "execution_count": null,
      "outputs": [
        {
          "output_type": "stream",
          "name": "stdout",
          "text": [
            "Digite o primeiro número? 20\n",
            "Digite o segundo número? 10\n",
            "Digite a operação (+, -, *, /) +\n",
            "Resultado: 30.0\n"
          ]
        }
      ]
    },
    {
      "cell_type": "markdown",
      "source": [
        "\n",
        "\n",
        "---\n",
        "\n"
      ],
      "metadata": {
        "id": "X0ZvZeNCLA04"
      }
    },
    {
      "cell_type": "markdown",
      "source": [
        "### G) **Faça um Programa que leia três números e mostre-os em ordem decrescente.**"
      ],
      "metadata": {
        "id": "vdf5rEiZF5KM"
      }
    },
    {
      "cell_type": "code",
      "source": [
        "# Resposta aqui\n",
        "num1 = float(input('Digite o primeiro número: '))\n",
        "num2 = float(input('Digite o segundo número: '))\n",
        "num3 = float(input('Digite o terceiro número: '))\n",
        "\n",
        "numeros = [num1, num2, num3]\n",
        "numeros.sort(reverse=True)\n",
        "print('Números em ordem decrescente', numeros)"
      ],
      "metadata": {
        "id": "PMPrtPEOF7eE",
        "outputId": "bd34bfad-aef6-4ee8-ab1a-8408f7bc4c31",
        "colab": {
          "base_uri": "https://localhost:8080/"
        }
      },
      "execution_count": null,
      "outputs": [
        {
          "output_type": "stream",
          "name": "stdout",
          "text": [
            "Digite o primeiro número: 15\n",
            "Digite o segundo número: 5\n",
            "Digite o terceiro número: 800\n",
            "Números em ordem decrescente [800.0, 15.0, 5.0]\n"
          ]
        }
      ]
    },
    {
      "cell_type": "markdown",
      "source": [
        "\n",
        "\n",
        "---\n",
        "\n"
      ],
      "metadata": {
        "id": "lX9BdmxyLBtt"
      }
    },
    {
      "cell_type": "markdown",
      "source": [
        "### H) **Faça uma função que retorne o reverso de um número inteiro informado. Por exemplo: 153 -> 351**"
      ],
      "metadata": {
        "id": "p0A-lta0Gmcq"
      }
    },
    {
      "cell_type": "code",
      "source": [
        "# Resposta aqui\n",
        "def reverso_numero(numero):\n",
        "  numero_invertido = int(str(numero)[::-1])\n",
        "  return numero_invertido"
      ],
      "metadata": {
        "id": "0Ppk5OneHom-"
      },
      "execution_count": null,
      "outputs": []
    },
    {
      "cell_type": "code",
      "source": [
        "numero = 321\n",
        "resultado = reverso_numero(numero)\n",
        "print(\"O reverso de\", numero, \"é\", resultado)"
      ],
      "metadata": {
        "id": "VficaDv6o8IT",
        "outputId": "b6409a5d-0066-45a4-ce34-9643a3fac4dd",
        "colab": {
          "base_uri": "https://localhost:8080/"
        }
      },
      "execution_count": null,
      "outputs": [
        {
          "output_type": "stream",
          "name": "stdout",
          "text": [
            "O reverso de 321 é 123\n"
          ]
        }
      ]
    },
    {
      "cell_type": "markdown",
      "source": [
        "\n",
        "\n",
        "---\n",
        "\n"
      ],
      "metadata": {
        "id": "GWlXyhTlLCii"
      }
    },
    {
      "cell_type": "markdown",
      "source": [
        "### I) **Faça um programa que solicite o nome do usuário e imprima-o em formato de escada.**"
      ],
      "metadata": {
        "id": "4DKAX96gKJZv"
      }
    },
    {
      "cell_type": "code",
      "source": [
        "#Digite seu nome: amanda\n",
        "#a\n",
        "#am\n",
        "#ama\n",
        "#aman\n",
        "#amand\n",
        "#amanda"
      ],
      "metadata": {
        "id": "yRsRy144KKds"
      },
      "execution_count": null,
      "outputs": []
    },
    {
      "cell_type": "code",
      "source": [
        "# Resposta aqui\n",
        "nome = input(\"Digite o seu nome: \")\n",
        "\n",
        "for i in range(1, len(nome) +1):\n",
        "  print(nome[:i])"
      ],
      "metadata": {
        "id": "N2ohocU_KO08",
        "outputId": "01208e35-114e-459f-eb85-24585a3edb41",
        "colab": {
          "base_uri": "https://localhost:8080/"
        }
      },
      "execution_count": null,
      "outputs": [
        {
          "output_type": "stream",
          "name": "stdout",
          "text": [
            "Digite o seu nome: Letícia\n",
            "L\n",
            "Le\n",
            "Let\n",
            "Letí\n",
            "Letíc\n",
            "Letíci\n",
            "Letícia\n"
          ]
        }
      ]
    }
  ]
}