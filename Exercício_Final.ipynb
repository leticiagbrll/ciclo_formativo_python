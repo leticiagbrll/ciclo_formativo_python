{
  "nbformat": 4,
  "nbformat_minor": 0,
  "metadata": {
    "colab": {
      "provenance": [],
      "include_colab_link": true
    },
    "kernelspec": {
      "name": "python3",
      "display_name": "Python 3"
    },
    "language_info": {
      "name": "python"
    }
  },
  "cells": [
    {
      "cell_type": "markdown",
      "metadata": {
        "id": "view-in-github",
        "colab_type": "text"
      },
      "source": [
        "<a href=\"https://colab.research.google.com/github/leticiagbrll/ciclo_formativo_python/blob/main/Exerc%C3%ADcio_Final.ipynb\" target=\"_parent\"><img src=\"https://colab.research.google.com/assets/colab-badge.svg\" alt=\"Open In Colab\"/></a>"
      ]
    },
    {
      "cell_type": "markdown",
      "source": [
        "- **Nome:** Letícia Gabrielle de Assis Souza\n",
        "- **E-mail:** leticiasouza@usp.br"
      ],
      "metadata": {
        "id": "JEZ6tZPX8DO6"
      }
    },
    {
      "cell_type": "markdown",
      "source": [
        "# Contagem de Medalhas\n",
        "\n",
        "Crie um programa que receba o número de medalhas de ouro, prata e bronze de um país nas Olimpíadas e calcule o total de medalhas.\n",
        "Quando escrever 'sair', o programa deverá encerrar e mostrar na tela o ranking de medalhas no formato:"
      ],
      "metadata": {
        "id": "RQN1e5FZY6SZ"
      }
    },
    {
      "cell_type": "code",
      "source": [
        "#Ranking de medalhas:\n",
        "#Brasil: 7 medalhas\n",
        "#França: 6 medalhas\n",
        "#Argentina: 3 medalhas"
      ],
      "metadata": {
        "id": "gCq_KLHzZSzb"
      },
      "execution_count": 1,
      "outputs": []
    },
    {
      "cell_type": "code",
      "execution_count": 2,
      "metadata": {
        "id": "AJJhjxiPTd5s",
        "colab": {
          "base_uri": "https://localhost:8080/"
        },
        "outputId": "f8c8289f-87ab-4052-96df-cbbad15bb21b"
      },
      "outputs": [
        {
          "output_type": "stream",
          "name": "stdout",
          "text": [
            "Digite o nome do país: Brasil\n",
            "Digite o número de medalhas de ouro: 15\n",
            "Digite o número de medalhas de prata: 10\n",
            "Digite o número de medalhas de bronze: 10\n",
            "Digite o nome do país ou 'sair' para encerrar: Estados Unidos\n",
            "Digite o número de medalhas de ouro: 40\n",
            "Digite o número de medalhas de prata: 20\n",
            "Digite o número de medalhas de bronze: 10\n",
            "Digite o nome do país ou 'sair' para encerrar: China\n",
            "Digite o número de medalhas de ouro: 40\n",
            "Digite o número de medalhas de prata: 19\n",
            "Digite o número de medalhas de bronze: 10\n",
            "Digite o nome do país ou 'sair' para encerrar: Itália\n",
            "Digite o número de medalhas de ouro: 3\n",
            "Digite o número de medalhas de prata: 3\n",
            "Digite o número de medalhas de bronze: 3\n",
            "Digite o nome do país ou 'sair' para encerrar: Argentina\n",
            "Digite o número de medalhas de ouro: 15\n",
            "Digite o número de medalhas de prata: 9\n",
            "Digite o número de medalhas de bronze: 9\n",
            "Digite o nome do país ou 'sair' para encerrar: Turquia\n",
            "Digite o número de medalhas de ouro: 16\n",
            "Digite o número de medalhas de prata: 9\n",
            "Digite o número de medalhas de bronze: 9\n",
            "Digite o nome do país ou 'sair' para encerrar: sair\n",
            "\n",
            "Ranking de Medalhas:\n",
            "Estados Unidos: 70 medalhas\n",
            "China: 69 medalhas\n",
            "Brasil: 35 medalhas\n",
            "Turquia: 34 medalhas\n",
            "Argentina: 33 medalhas\n",
            "Itália: 9 medalhas\n"
          ]
        }
      ],
      "source": [
        "# Resposta aqui\n",
        "\n",
        "#Criei um dicionário vazio para armazenar as medalhas por país\n",
        "ranking = {}\n",
        "\n",
        "#Primeiro país\n",
        "pais = input(\"Digite o nome do país: \").strip()\n",
        "\n",
        "#Verifiquei se o nome do país não está vazio, antes de entrar no while. Então, solicitei o numero de medalhas de ouro, prata e bronze.\n",
        "#Optei por considerar apenas números inteiros - Não é possível ganhar 0.5 medalhas, por exemplo.\n",
        "\n",
        "if pais:\n",
        "  while True:\n",
        "    try:\n",
        "      ouro = int(input(\"Digite o número de medalhas de ouro: \"))\n",
        "      prata = int(input(\"Digite o número de medalhas de prata: \"))\n",
        "      bronze = int(input(\"Digite o número de medalhas de bronze: \"))\n",
        "    except ValueError:\n",
        "      print(\"Por favor, insira um número válido\")\n",
        "      continue\n",
        "\n",
        "#Calculei o total de medalhas para o país e armazenei no dicionário\n",
        "    total_medalhas = ouro + prata + bronze\n",
        "    ranking[pais] = total_medalhas\n",
        "\n",
        "#Solicitei o nome do próximo país e forneci a opção \"Sair\" para encerrar o while\n",
        "    pais = input(\"Digite o nome do país ou 'sair' para encerrar: \").strip()\n",
        "    if pais.lower() == 'sair':\n",
        "      break\n",
        "\n",
        "#Ordenei os países pelo total geral de medalhas, em ordem decrescente\n",
        "ranking_ordenado = sorted(ranking.items(), key=lambda item: item[1], reverse=True)\n",
        "\n",
        "#Exibi o ranking de medalhas\n",
        "print(\"\\nRanking de Medalhas:\")\n",
        "for pais, total in ranking_ordenado:\n",
        "     print(f\"{pais}: {total} medalhas\")"
      ]
    }
  ]
}